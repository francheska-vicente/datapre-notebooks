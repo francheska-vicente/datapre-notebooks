{
 "cells": [
  {
   "cell_type": "markdown",
   "id": "d97ff68b",
   "metadata": {},
   "source": [
    "# Getting data from an API\n",
    "This notebook walks you through some steps in collecting data from Reddit using the Pushshift.io API.\n",
    "\n",
    "We will use the **Python Pushshift.io API Wrapper (PSAW)** which is documented here -> https://psaw.readthedocs.io/en/latest/"
   ]
  },
  {
   "cell_type": "markdown",
   "id": "eb56162a",
   "metadata": {},
   "source": [
    "### Import package\n",
    "This wrapper package allows the searching of public submissions and comments."
   ]
  },
  {
   "cell_type": "code",
   "execution_count": 1,
   "id": "ce550e39",
   "metadata": {},
   "outputs": [],
   "source": [
    "from psaw import PushshiftAPI\n",
    "# https://pushshift.io/\n",
    "# -> has a list of API endpoints, \n",
    "# which allow you to get data or search the data for comment, \n",
    "# submissions, and subreddit\n",
    "# -> documentation: https://github.com/pushshift/api\n",
    "import pandas as pd\n",
    "\n",
    "api = PushshiftAPI()\n",
    "# -> if you type \"api.\", then press TAB after this point, \n",
    "# then you will see the functions."
   ]
  },
  {
   "cell_type": "markdown",
   "id": "8e2634b5",
   "metadata": {},
   "source": [
    "### Get the 5 most recent posts in all of Reddit"
   ]
  },
  {
   "cell_type": "code",
   "execution_count": 2,
   "id": "74217052",
   "metadata": {},
   "outputs": [
    {
     "name": "stderr",
     "output_type": "stream",
     "text": [
      "C:\\Users\\User\\anaconda3\\lib\\site-packages\\psaw\\PushshiftAPI.py:252: UserWarning: Not all PushShift shards are active. Query results may be incomplete\n",
      "  warnings.warn(shards_down_message)\n"
     ]
    }
   ],
   "source": [
    "posts = api.search_submissions(limit=5, filter=['full_link','author', 'title', 'subreddit', 'created_utc'])\n",
    "results = list(posts)"
   ]
  },
  {
   "cell_type": "markdown",
   "id": "e3a6965e-0fe8-473e-8910-a160bc0ae5fb",
   "metadata": {},
   "source": [
    "How do you get the first element?"
   ]
  },
  {
   "cell_type": "code",
   "execution_count": 3,
   "id": "d284f8ae",
   "metadata": {},
   "outputs": [
    {
     "data": {
      "text/plain": [
       "submission(author='mystiqueque', created_utc=1649497750, full_link='https://www.reddit.com/r/MacMiller/comments/tzpxhc/sza_showing_some_love_to_our_boy/', subreddit='MacMiller', title='sza showing some love to our boy 🤍', created=1649468950.0, d_={'author': 'mystiqueque', 'created_utc': 1649497750, 'full_link': 'https://www.reddit.com/r/MacMiller/comments/tzpxhc/sza_showing_some_love_to_our_boy/', 'subreddit': 'MacMiller', 'title': 'sza showing some love to our boy 🤍', 'created': 1649468950.0})"
      ]
     },
     "execution_count": 3,
     "metadata": {},
     "output_type": "execute_result"
    }
   ],
   "source": [
    "# your code here\n",
    "results [0]"
   ]
  },
  {
   "cell_type": "markdown",
   "id": "51833fcc-7a4f-4eaf-aeac-3c0f942d64fa",
   "metadata": {},
   "source": [
    "Check if you actually got only 5 results."
   ]
  },
  {
   "cell_type": "code",
   "execution_count": 4,
   "id": "1300bc99-7409-4b8b-bd95-b345bf0824d0",
   "metadata": {},
   "outputs": [
    {
     "data": {
      "text/plain": [
       "50"
      ]
     },
     "execution_count": 4,
     "metadata": {},
     "output_type": "execute_result"
    }
   ],
   "source": [
    "# your code here\n",
    "len(results)"
   ]
  },
  {
   "cell_type": "markdown",
   "id": "4f8b887f",
   "metadata": {},
   "source": [
    "### Get the most recent post from r/philippines"
   ]
  },
  {
   "cell_type": "code",
   "execution_count": 13,
   "id": "27368d90",
   "metadata": {},
   "outputs": [],
   "source": [
    "posts = api.search_submissions(limit=5, subreddit=\"philippines\", filter=['full_link','author', 'title', 'subreddit', 'created_utc', 'selftext'])\n",
    "posts_df = pd.DataFrame([thing.d_ for thing in posts])"
   ]
  },
  {
   "cell_type": "markdown",
   "id": "c621a577-416c-4ab0-a766-b21751079d24",
   "metadata": {},
   "source": [
    "Display the `DataFrame`"
   ]
  },
  {
   "cell_type": "code",
   "execution_count": 14,
   "id": "12a06c53",
   "metadata": {},
   "outputs": [
    {
     "data": {
      "text/html": [
       "<div>\n",
       "<style scoped>\n",
       "    .dataframe tbody tr th:only-of-type {\n",
       "        vertical-align: middle;\n",
       "    }\n",
       "\n",
       "    .dataframe tbody tr th {\n",
       "        vertical-align: top;\n",
       "    }\n",
       "\n",
       "    .dataframe thead th {\n",
       "        text-align: right;\n",
       "    }\n",
       "</style>\n",
       "<table border=\"1\" class=\"dataframe\">\n",
       "  <thead>\n",
       "    <tr style=\"text-align: right;\">\n",
       "      <th></th>\n",
       "      <th>author</th>\n",
       "      <th>created_utc</th>\n",
       "      <th>full_link</th>\n",
       "      <th>selftext</th>\n",
       "      <th>subreddit</th>\n",
       "      <th>title</th>\n",
       "      <th>created</th>\n",
       "    </tr>\n",
       "  </thead>\n",
       "  <tbody>\n",
       "    <tr>\n",
       "      <th>0</th>\n",
       "      <td>ringingb1oom</td>\n",
       "      <td>1649062317</td>\n",
       "      <td>https://www.reddit.com/r/Philippines/comments/...</td>\n",
       "      <td>I'm currently applying online for my SSS. Nire...</td>\n",
       "      <td>Philippines</td>\n",
       "      <td>Question about SSS</td>\n",
       "      <td>1.649034e+09</td>\n",
       "    </tr>\n",
       "    <tr>\n",
       "      <th>1</th>\n",
       "      <td>justtobiwithyou</td>\n",
       "      <td>1649062267</td>\n",
       "      <td>https://www.reddit.com/r/Philippines/comments/...</td>\n",
       "      <td></td>\n",
       "      <td>Philippines</td>\n",
       "      <td>My friend sent me this Twitter video. \"Botox n...</td>\n",
       "      <td>1.649033e+09</td>\n",
       "    </tr>\n",
       "    <tr>\n",
       "      <th>2</th>\n",
       "      <td>dump_account99</td>\n",
       "      <td>1649062206</td>\n",
       "      <td>https://www.reddit.com/r/Philippines/comments/...</td>\n",
       "      <td>Hey guys,\\n\\nMy boyfriend and I are traveling ...</td>\n",
       "      <td>Philippines</td>\n",
       "      <td>Traveling to the Philippines</td>\n",
       "      <td>1.649033e+09</td>\n",
       "    </tr>\n",
       "    <tr>\n",
       "      <th>3</th>\n",
       "      <td>JexGaming</td>\n",
       "      <td>1649062062</td>\n",
       "      <td>https://www.reddit.com/r/Philippines/comments/...</td>\n",
       "      <td></td>\n",
       "      <td>Philippines</td>\n",
       "      <td>Hahaha I’m trying to add a smiley on r/place t...</td>\n",
       "      <td>1.649033e+09</td>\n",
       "    </tr>\n",
       "    <tr>\n",
       "      <th>4</th>\n",
       "      <td>tuto170</td>\n",
       "      <td>1649061774</td>\n",
       "      <td>https://www.reddit.com/r/Philippines/comments/...</td>\n",
       "      <td></td>\n",
       "      <td>Philippines</td>\n",
       "      <td>Is it true that majority of locals think that ...</td>\n",
       "      <td>1.649033e+09</td>\n",
       "    </tr>\n",
       "  </tbody>\n",
       "</table>\n",
       "</div>"
      ],
      "text/plain": [
       "            author  created_utc  \\\n",
       "0     ringingb1oom   1649062317   \n",
       "1  justtobiwithyou   1649062267   \n",
       "2   dump_account99   1649062206   \n",
       "3        JexGaming   1649062062   \n",
       "4          tuto170   1649061774   \n",
       "\n",
       "                                           full_link  \\\n",
       "0  https://www.reddit.com/r/Philippines/comments/...   \n",
       "1  https://www.reddit.com/r/Philippines/comments/...   \n",
       "2  https://www.reddit.com/r/Philippines/comments/...   \n",
       "3  https://www.reddit.com/r/Philippines/comments/...   \n",
       "4  https://www.reddit.com/r/Philippines/comments/...   \n",
       "\n",
       "                                            selftext    subreddit  \\\n",
       "0  I'm currently applying online for my SSS. Nire...  Philippines   \n",
       "1                                                     Philippines   \n",
       "2  Hey guys,\\n\\nMy boyfriend and I are traveling ...  Philippines   \n",
       "3                                                     Philippines   \n",
       "4                                                     Philippines   \n",
       "\n",
       "                                               title       created  \n",
       "0                                 Question about SSS  1.649034e+09  \n",
       "1  My friend sent me this Twitter video. \"Botox n...  1.649033e+09  \n",
       "2                       Traveling to the Philippines  1.649033e+09  \n",
       "3  Hahaha I’m trying to add a smiley on r/place t...  1.649033e+09  \n",
       "4  Is it true that majority of locals think that ...  1.649033e+09  "
      ]
     },
     "execution_count": 14,
     "metadata": {},
     "output_type": "execute_result"
    }
   ],
   "source": [
    "# your code here\n",
    "posts_df"
   ]
  },
  {
   "cell_type": "markdown",
   "id": "ff19a53a-7f7a-46a4-8257-a7a638057211",
   "metadata": {},
   "source": [
    "Retrieve the `full_link`  from the first item"
   ]
  },
  {
   "cell_type": "code",
   "execution_count": 15,
   "id": "418e269c",
   "metadata": {},
   "outputs": [
    {
     "data": {
      "text/plain": [
       "'https://www.reddit.com/r/Philippines/comments/tvx9ns/question_about_sss/'"
      ]
     },
     "execution_count": 15,
     "metadata": {},
     "output_type": "execute_result"
    }
   ],
   "source": [
    "# your code here\n",
    "posts_df['full_link'][0]"
   ]
  },
  {
   "cell_type": "markdown",
   "id": "63583fb4",
   "metadata": {},
   "source": [
    "### Get posts from March 11 in r/philippines"
   ]
  },
  {
   "cell_type": "code",
   "execution_count": 16,
   "id": "94662865",
   "metadata": {},
   "outputs": [
    {
     "name": "stderr",
     "output_type": "stream",
     "text": [
      "C:\\Users\\User\\anaconda3\\lib\\site-packages\\psaw\\PushshiftAPI.py:252: UserWarning: Not all PushShift shards are active. Query results may be incomplete\n",
      "  warnings.warn(shards_down_message)\n"
     ]
    }
   ],
   "source": [
    "import datetime as dt\n",
    "\n",
    "sub=\"philippines\"\n",
    "start=\"2021-03-11\"\n",
    "\n",
    "start_date=pd.to_datetime(start)\n",
    "\n",
    "start_epoch=int(start_date.timestamp())\n",
    "\n",
    "posts = api.search_submissions(limit=10, \n",
    "                               subreddit=sub, \n",
    "                               before=start_epoch,\n",
    "                               filter=['full_link','author', 'title', 'subreddit', 'created_utc'])\n",
    "posts_df = pd.DataFrame([thing.d_ for thing in posts])"
   ]
  },
  {
   "cell_type": "code",
   "execution_count": 17,
   "id": "efdaba9b",
   "metadata": {},
   "outputs": [
    {
     "data": {
      "text/html": [
       "<div>\n",
       "<style scoped>\n",
       "    .dataframe tbody tr th:only-of-type {\n",
       "        vertical-align: middle;\n",
       "    }\n",
       "\n",
       "    .dataframe tbody tr th {\n",
       "        vertical-align: top;\n",
       "    }\n",
       "\n",
       "    .dataframe thead th {\n",
       "        text-align: right;\n",
       "    }\n",
       "</style>\n",
       "<table border=\"1\" class=\"dataframe\">\n",
       "  <thead>\n",
       "    <tr style=\"text-align: right;\">\n",
       "      <th></th>\n",
       "      <th>author</th>\n",
       "      <th>created_utc</th>\n",
       "      <th>full_link</th>\n",
       "      <th>subreddit</th>\n",
       "      <th>title</th>\n",
       "      <th>created</th>\n",
       "    </tr>\n",
       "  </thead>\n",
       "  <tbody>\n",
       "    <tr>\n",
       "      <th>0</th>\n",
       "      <td>Intelligent_Ear3155</td>\n",
       "      <td>1615420404</td>\n",
       "      <td>https://www.reddit.com/r/Philippines/comments/...</td>\n",
       "      <td>Philippines</td>\n",
       "      <td>Cuzette is a good jewelry brand, they offer go...</td>\n",
       "      <td>1.615392e+09</td>\n",
       "    </tr>\n",
       "    <tr>\n",
       "      <th>1</th>\n",
       "      <td>ladyfromthedarkside</td>\n",
       "      <td>1615419908</td>\n",
       "      <td>https://www.reddit.com/r/Philippines/comments/...</td>\n",
       "      <td>Philippines</td>\n",
       "      <td>Makati’s strict implementation of wearing of f...</td>\n",
       "      <td>1.615391e+09</td>\n",
       "    </tr>\n",
       "    <tr>\n",
       "      <th>2</th>\n",
       "      <td>Logical_Ad_3556</td>\n",
       "      <td>1615419483</td>\n",
       "      <td>https://www.reddit.com/r/Philippines/comments/...</td>\n",
       "      <td>Philippines</td>\n",
       "      <td>Hong Kong Toymakers Are Philippines’ New Targe...</td>\n",
       "      <td>1.615391e+09</td>\n",
       "    </tr>\n",
       "    <tr>\n",
       "      <th>3</th>\n",
       "      <td>setardo</td>\n",
       "      <td>1615418893</td>\n",
       "      <td>https://www.reddit.com/r/Philippines/comments/...</td>\n",
       "      <td>Philippines</td>\n",
       "      <td>Early Morning Coconut Trees View - Siargao, Ph...</td>\n",
       "      <td>1.615390e+09</td>\n",
       "    </tr>\n",
       "    <tr>\n",
       "      <th>4</th>\n",
       "      <td>CommunicationFar116</td>\n",
       "      <td>1615418058</td>\n",
       "      <td>https://www.reddit.com/r/Philippines/comments/...</td>\n",
       "      <td>Philippines</td>\n",
       "      <td>Filipino on Guam Musician</td>\n",
       "      <td>1.615389e+09</td>\n",
       "    </tr>\n",
       "    <tr>\n",
       "      <th>5</th>\n",
       "      <td>Reach_Round</td>\n",
       "      <td>1615417483</td>\n",
       "      <td>https://www.reddit.com/r/Philippines/comments/...</td>\n",
       "      <td>Philippines</td>\n",
       "      <td>Crypto to Peso ?</td>\n",
       "      <td>1.615389e+09</td>\n",
       "    </tr>\n",
       "    <tr>\n",
       "      <th>6</th>\n",
       "      <td>VeterinarianDry7601</td>\n",
       "      <td>1615415742</td>\n",
       "      <td>https://www.reddit.com/r/Philippines/comments/...</td>\n",
       "      <td>Philippines</td>\n",
       "      <td>https://app.shopback.com/pK2fNgYuweb</td>\n",
       "      <td>1.615387e+09</td>\n",
       "    </tr>\n",
       "    <tr>\n",
       "      <th>7</th>\n",
       "      <td>luvie06</td>\n",
       "      <td>1615414525</td>\n",
       "      <td>https://www.reddit.com/r/Philippines/comments/...</td>\n",
       "      <td>Philippines</td>\n",
       "      <td>PLS ANSWER I need this for my research :((</td>\n",
       "      <td>1.615386e+09</td>\n",
       "    </tr>\n",
       "    <tr>\n",
       "      <th>8</th>\n",
       "      <td>the_yaya</td>\n",
       "      <td>1615413301</td>\n",
       "      <td>https://www.reddit.com/r/Philippines/comments/...</td>\n",
       "      <td>Philippines</td>\n",
       "      <td>Daily random discussion - Mar 11, 2021</td>\n",
       "      <td>1.615385e+09</td>\n",
       "    </tr>\n",
       "    <tr>\n",
       "      <th>9</th>\n",
       "      <td>threehappypenguins</td>\n",
       "      <td>1615411232</td>\n",
       "      <td>https://www.reddit.com/r/Philippines/comments/...</td>\n",
       "      <td>Philippines</td>\n",
       "      <td>Mail Forwarding Service</td>\n",
       "      <td>1.615382e+09</td>\n",
       "    </tr>\n",
       "  </tbody>\n",
       "</table>\n",
       "</div>"
      ],
      "text/plain": [
       "                author  created_utc  \\\n",
       "0  Intelligent_Ear3155   1615420404   \n",
       "1  ladyfromthedarkside   1615419908   \n",
       "2      Logical_Ad_3556   1615419483   \n",
       "3              setardo   1615418893   \n",
       "4  CommunicationFar116   1615418058   \n",
       "5          Reach_Round   1615417483   \n",
       "6  VeterinarianDry7601   1615415742   \n",
       "7              luvie06   1615414525   \n",
       "8             the_yaya   1615413301   \n",
       "9   threehappypenguins   1615411232   \n",
       "\n",
       "                                           full_link    subreddit  \\\n",
       "0  https://www.reddit.com/r/Philippines/comments/...  Philippines   \n",
       "1  https://www.reddit.com/r/Philippines/comments/...  Philippines   \n",
       "2  https://www.reddit.com/r/Philippines/comments/...  Philippines   \n",
       "3  https://www.reddit.com/r/Philippines/comments/...  Philippines   \n",
       "4  https://www.reddit.com/r/Philippines/comments/...  Philippines   \n",
       "5  https://www.reddit.com/r/Philippines/comments/...  Philippines   \n",
       "6  https://www.reddit.com/r/Philippines/comments/...  Philippines   \n",
       "7  https://www.reddit.com/r/Philippines/comments/...  Philippines   \n",
       "8  https://www.reddit.com/r/Philippines/comments/...  Philippines   \n",
       "9  https://www.reddit.com/r/Philippines/comments/...  Philippines   \n",
       "\n",
       "                                               title       created  \n",
       "0  Cuzette is a good jewelry brand, they offer go...  1.615392e+09  \n",
       "1  Makati’s strict implementation of wearing of f...  1.615391e+09  \n",
       "2  Hong Kong Toymakers Are Philippines’ New Targe...  1.615391e+09  \n",
       "3  Early Morning Coconut Trees View - Siargao, Ph...  1.615390e+09  \n",
       "4                          Filipino on Guam Musician  1.615389e+09  \n",
       "5                                   Crypto to Peso ?  1.615389e+09  \n",
       "6               https://app.shopback.com/pK2fNgYuweb  1.615387e+09  \n",
       "7         PLS ANSWER I need this for my research :((  1.615386e+09  \n",
       "8             Daily random discussion - Mar 11, 2021  1.615385e+09  \n",
       "9                            Mail Forwarding Service  1.615382e+09  "
      ]
     },
     "execution_count": 17,
     "metadata": {},
     "output_type": "execute_result"
    }
   ],
   "source": [
    "# Display the dataframe\n",
    "posts_df"
   ]
  },
  {
   "cell_type": "markdown",
   "id": "2d3f8506-5d84-475b-972a-918b58d439da",
   "metadata": {},
   "source": [
    "## Challenge \n",
    "\n",
    "Let's put this in a loop to get the first 20 posts for every day of a month."
   ]
  },
  {
   "cell_type": "code",
   "execution_count": null,
   "id": "ace6015d-e294-4cc0-a782-a14a70509146",
   "metadata": {},
   "outputs": [],
   "source": []
  }
 ],
 "metadata": {
  "kernelspec": {
   "display_name": "Python 3",
   "language": "python",
   "name": "python3"
  },
  "language_info": {
   "codemirror_mode": {
    "name": "ipython",
    "version": 3
   },
   "file_extension": ".py",
   "mimetype": "text/x-python",
   "name": "python",
   "nbconvert_exporter": "python",
   "pygments_lexer": "ipython3",
   "version": "3.8.8"
  },
  "toc": {
   "base_numbering": 1,
   "nav_menu": {},
   "number_sections": true,
   "sideBar": true,
   "skip_h1_title": false,
   "title_cell": "Table of Contents",
   "title_sidebar": "Contents",
   "toc_cell": false,
   "toc_position": {},
   "toc_section_display": true,
   "toc_window_display": false
  }
 },
 "nbformat": 4,
 "nbformat_minor": 5
}
