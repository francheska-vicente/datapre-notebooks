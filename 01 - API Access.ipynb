{
 "cells": [
  {
   "cell_type": "markdown",
   "id": "d97ff68b",
   "metadata": {},
   "source": [
    "# Getting data from an API\n",
    "This notebook walks you through some steps in collecting data from Reddit using the Pushshift.io API.\n",
    "\n",
    "We will use the **Python Pushshift.io API Wrapper (PSAW)** which is documented here -> https://psaw.readthedocs.io/en/latest/"
   ]
  },
  {
   "cell_type": "markdown",
   "id": "eb56162a",
   "metadata": {},
   "source": [
    "### Import package\n",
    "This wrapper package allows the searching of public submissions and comments."
   ]
  },
  {
   "cell_type": "code",
   "execution_count": 1,
   "id": "ce550e39",
   "metadata": {},
   "outputs": [],
   "source": [
    "from psaw import PushshiftAPI\n",
    "# https://pushshift.io/\n",
    "# -> has a list of API endpoints, \n",
    "# which allow you to get data or search the data for comment, \n",
    "# submissions, and subreddit\n",
    "# -> documentation: https://github.com/pushshift/api\n",
    "\n",
    "import pandas as pd\n",
    "# -> pandas is a library that allows you to read CSV files\n",
    "# and other excel files.\n",
    "# -> a way to create tables in Python\n",
    "\n",
    "\n",
    "api = PushshiftAPI()\n",
    "# -> if you type \"api.\", then press TAB after this point, \n",
    "# then you will see the functions.\n",
    "\n",
    "# NOTE: When you're calling API connections, it requires Internet.\n",
    "# When you get disconnected, it's going to stop.\n",
    "\n",
    "# -> Using API is really about understanding the structure that you're\n",
    "# getting and reading their documentation. "
   ]
  },
  {
   "cell_type": "markdown",
   "id": "8e2634b5",
   "metadata": {},
   "source": [
    "### Get the 5 most recent posts in all of Reddit"
   ]
  },
  {
   "cell_type": "code",
   "execution_count": 2,
   "id": "74217052",
   "metadata": {},
   "outputs": [
    {
     "name": "stderr",
     "output_type": "stream",
     "text": [
      "C:\\Users\\User\\anaconda3\\lib\\site-packages\\psaw\\PushshiftAPI.py:252: UserWarning: Not all PushShift shards are active. Query results may be incomplete\n",
      "  warnings.warn(shards_down_message)\n"
     ]
    }
   ],
   "source": [
    "posts = api.search_submissions(limit=5, filter=['full_link','author', 'title', 'subreddit', 'created_utc'])\n",
    "results = list(posts)\n",
    "\n",
    "# -> setting a limit avoid the program crashing or stopping as retrieving\n",
    "# large amount of data might cause it to crash/stop"
   ]
  },
  {
   "cell_type": "markdown",
   "id": "e3a6965e-0fe8-473e-8910-a160bc0ae5fb",
   "metadata": {},
   "source": [
    "How do you get the first element?"
   ]
  },
  {
   "cell_type": "code",
   "execution_count": 3,
   "id": "d284f8ae",
   "metadata": {},
   "outputs": [
    {
     "data": {
      "text/plain": [
       "submission(author='steven_exit', created_utc=1649505353, full_link='https://www.reddit.com/r/wichsbros3/comments/tzrom7/telegram_gruppe_mit_corinna_kopf_elena_kamperi/', subreddit='wichsbros3', title='Telegram Gruppe mit Corinna kopf Elena kamperi etc. täglich 100 onlyfans ,ohne invites, Tausche gegen deutsche Teens bei Interesse dm', created=1649476553.0, d_={'author': 'steven_exit', 'created_utc': 1649505353, 'full_link': 'https://www.reddit.com/r/wichsbros3/comments/tzrom7/telegram_gruppe_mit_corinna_kopf_elena_kamperi/', 'subreddit': 'wichsbros3', 'title': 'Telegram Gruppe mit Corinna kopf Elena kamperi etc. täglich 100 onlyfans ,ohne invites, Tausche gegen deutsche Teens bei Interesse dm', 'created': 1649476553.0})"
      ]
     },
     "execution_count": 3,
     "metadata": {},
     "output_type": "execute_result"
    }
   ],
   "source": [
    "# your code here\n",
    "results [0]"
   ]
  },
  {
   "cell_type": "code",
   "execution_count": 5,
   "id": "23dc5f48",
   "metadata": {},
   "outputs": [
    {
     "data": {
      "text/plain": [
       "psaw.PushshiftAPI.submission"
      ]
     },
     "execution_count": 5,
     "metadata": {},
     "output_type": "execute_result"
    }
   ],
   "source": [
    "type(results[0])\n",
    "# -> As we can see, the type of the data is Pushshift object, which is why\n",
    "# we cannot directly play with it.\n",
    "# -> the part that has d_={} is the JSON object. It repeats the part of the\n",
    "# submission but in JSON form."
   ]
  },
  {
   "cell_type": "markdown",
   "id": "51833fcc-7a4f-4eaf-aeac-3c0f942d64fa",
   "metadata": {},
   "source": [
    "Check if you actually got only 5 results."
   ]
  },
  {
   "cell_type": "code",
   "execution_count": 6,
   "id": "1300bc99-7409-4b8b-bd95-b345bf0824d0",
   "metadata": {},
   "outputs": [
    {
     "data": {
      "text/plain": [
       "5"
      ]
     },
     "execution_count": 6,
     "metadata": {},
     "output_type": "execute_result"
    }
   ],
   "source": [
    "# your code here\n",
    "len(results)"
   ]
  },
  {
   "cell_type": "markdown",
   "id": "4f8b887f",
   "metadata": {},
   "source": [
    "### Get the most recent post from r/philippines"
   ]
  },
  {
   "cell_type": "code",
   "execution_count": 7,
   "id": "27368d90",
   "metadata": {},
   "outputs": [],
   "source": [
    "posts = api.search_submissions(limit=5, subreddit=\"philippines\", filter=['full_link','author', 'title', 'subreddit', 'created_utc', 'selftext'])\n",
    "posts_df = pd.DataFrame([thing.d_ for thing in posts])\n",
    "# NOTE: to easily put the data into a DataFrame."
   ]
  },
  {
   "cell_type": "markdown",
   "id": "c621a577-416c-4ab0-a766-b21751079d24",
   "metadata": {},
   "source": [
    "Display the `DataFrame`"
   ]
  },
  {
   "cell_type": "code",
   "execution_count": 12,
   "id": "12a06c53",
   "metadata": {
    "scrolled": true
   },
   "outputs": [
    {
     "data": {
      "text/html": [
       "<div>\n",
       "<style scoped>\n",
       "    .dataframe tbody tr th:only-of-type {\n",
       "        vertical-align: middle;\n",
       "    }\n",
       "\n",
       "    .dataframe tbody tr th {\n",
       "        vertical-align: top;\n",
       "    }\n",
       "\n",
       "    .dataframe thead th {\n",
       "        text-align: right;\n",
       "    }\n",
       "</style>\n",
       "<table border=\"1\" class=\"dataframe\">\n",
       "  <thead>\n",
       "    <tr style=\"text-align: right;\">\n",
       "      <th></th>\n",
       "      <th>author</th>\n",
       "      <th>created_utc</th>\n",
       "      <th>full_link</th>\n",
       "      <th>selftext</th>\n",
       "      <th>subreddit</th>\n",
       "      <th>title</th>\n",
       "      <th>created</th>\n",
       "    </tr>\n",
       "  </thead>\n",
       "  <tbody>\n",
       "    <tr>\n",
       "      <th>0</th>\n",
       "      <td>ziesPrime95</td>\n",
       "      <td>1649505997</td>\n",
       "      <td>https://www.reddit.com/r/Philippines/comments/...</td>\n",
       "      <td></td>\n",
       "      <td>Philippines</td>\n",
       "      <td>Sobrang kutya sa teleprompter pero ano to? 🤡</td>\n",
       "      <td>1.649477e+09</td>\n",
       "    </tr>\n",
       "    <tr>\n",
       "      <th>1</th>\n",
       "      <td>venom029</td>\n",
       "      <td>1649505893</td>\n",
       "      <td>https://www.reddit.com/r/Philippines/comments/...</td>\n",
       "      <td></td>\n",
       "      <td>Philippines</td>\n",
       "      <td>BBM Solid Kakampinks ✌️❤️💚🌷</td>\n",
       "      <td>1.649477e+09</td>\n",
       "    </tr>\n",
       "    <tr>\n",
       "      <th>2</th>\n",
       "      <td>Whenthingsgotwrong</td>\n",
       "      <td>1649505813</td>\n",
       "      <td>https://www.reddit.com/r/Philippines/comments/...</td>\n",
       "      <td>Pinoys of reddit what is the worst punishment ...</td>\n",
       "      <td>Philippines</td>\n",
       "      <td>worst punishment</td>\n",
       "      <td>1.649477e+09</td>\n",
       "    </tr>\n",
       "    <tr>\n",
       "      <th>3</th>\n",
       "      <td>joshuuuu214</td>\n",
       "      <td>1649505807</td>\n",
       "      <td>https://www.reddit.com/r/Philippines/comments/...</td>\n",
       "      <td></td>\n",
       "      <td>Philippines</td>\n",
       "      <td>A Change of Heart</td>\n",
       "      <td>1.649477e+09</td>\n",
       "    </tr>\n",
       "    <tr>\n",
       "      <th>4</th>\n",
       "      <td>Bombooclat</td>\n",
       "      <td>1649505789</td>\n",
       "      <td>https://www.reddit.com/r/Philippines/comments/...</td>\n",
       "      <td>Hi! Just a short preface na hindi na ako masya...</td>\n",
       "      <td>Philippines</td>\n",
       "      <td>How does Leni's legal team work?</td>\n",
       "      <td>1.649477e+09</td>\n",
       "    </tr>\n",
       "  </tbody>\n",
       "</table>\n",
       "</div>"
      ],
      "text/plain": [
       "               author  created_utc  \\\n",
       "0         ziesPrime95   1649505997   \n",
       "1            venom029   1649505893   \n",
       "2  Whenthingsgotwrong   1649505813   \n",
       "3         joshuuuu214   1649505807   \n",
       "4          Bombooclat   1649505789   \n",
       "\n",
       "                                           full_link  \\\n",
       "0  https://www.reddit.com/r/Philippines/comments/...   \n",
       "1  https://www.reddit.com/r/Philippines/comments/...   \n",
       "2  https://www.reddit.com/r/Philippines/comments/...   \n",
       "3  https://www.reddit.com/r/Philippines/comments/...   \n",
       "4  https://www.reddit.com/r/Philippines/comments/...   \n",
       "\n",
       "                                            selftext    subreddit  \\\n",
       "0                                                     Philippines   \n",
       "1                                                     Philippines   \n",
       "2  Pinoys of reddit what is the worst punishment ...  Philippines   \n",
       "3                                                     Philippines   \n",
       "4  Hi! Just a short preface na hindi na ako masya...  Philippines   \n",
       "\n",
       "                                          title       created  \n",
       "0  Sobrang kutya sa teleprompter pero ano to? 🤡  1.649477e+09  \n",
       "1                   BBM Solid Kakampinks ✌️❤️💚🌷  1.649477e+09  \n",
       "2                              worst punishment  1.649477e+09  \n",
       "3                             A Change of Heart  1.649477e+09  \n",
       "4              How does Leni's legal team work?  1.649477e+09  "
      ]
     },
     "execution_count": 12,
     "metadata": {},
     "output_type": "execute_result"
    }
   ],
   "source": [
    "# your code here\n",
    "posts_df\n",
    "\n",
    "# -> created uses the epoch time, which is why it's an internet number\n",
    "# for the date\n",
    "\n",
    "# TWO WAYS TO ACCESS A SPECIFIC COLUMN:\n",
    "# 1. posts_df.full_link\n",
    "# 2. posts_df['full_link'] -> how we usually access links/dictionaries\n",
    "\n",
    "# for a specific column of a specific row -> posts_df['full_link'][0]"
   ]
  },
  {
   "cell_type": "markdown",
   "id": "ff19a53a-7f7a-46a4-8257-a7a638057211",
   "metadata": {},
   "source": [
    "Retrieve the `full_link`  from the first item"
   ]
  },
  {
   "cell_type": "code",
   "execution_count": 15,
   "id": "418e269c",
   "metadata": {},
   "outputs": [
    {
     "data": {
      "text/plain": [
       "'https://www.reddit.com/r/Philippines/comments/tvx9ns/question_about_sss/'"
      ]
     },
     "execution_count": 15,
     "metadata": {},
     "output_type": "execute_result"
    }
   ],
   "source": [
    "# your code here\n",
    "posts_df['full_link'][0]"
   ]
  },
  {
   "cell_type": "markdown",
   "id": "63583fb4",
   "metadata": {},
   "source": [
    "### Get posts from March 11 in r/philippines"
   ]
  },
  {
   "cell_type": "code",
   "execution_count": 16,
   "id": "94662865",
   "metadata": {},
   "outputs": [
    {
     "name": "stderr",
     "output_type": "stream",
     "text": [
      "C:\\Users\\User\\anaconda3\\lib\\site-packages\\psaw\\PushshiftAPI.py:252: UserWarning: Not all PushShift shards are active. Query results may be incomplete\n",
      "  warnings.warn(shards_down_message)\n"
     ]
    }
   ],
   "source": [
    "import datetime as dt\n",
    "\n",
    "sub=\"philippines\"\n",
    "start=\"2021-04-04\"\n",
    "\n",
    "start_date=pd.to_datetime(start)\n",
    "# -> You can use pandas to convert the string into a DateTime object.\n",
    "# Because a DateTime object can be converted to an Epoch integer\n",
    "\n",
    "start_epoch=int(start_date.timestamp())\n",
    "# -> Converting the DateTime object into an Epoch float, before converting\n",
    "# it into an Integer as the reddit API only accepts an Integer\n",
    "\n",
    "# -> We are going to get the posts before April 4, 2022\n",
    "posts = api.search_submissions(limit=10, \n",
    "                               subreddit=sub, \n",
    "                               before=start_epoch,\n",
    "                               filter=['full_link','author', 'title', 'subreddit', 'created_utc'])\n",
    "posts_df = pd.DataFrame([thing.d_ for thing in posts])"
   ]
  },
  {
   "cell_type": "code",
   "execution_count": 17,
   "id": "efdaba9b",
   "metadata": {},
   "outputs": [
    {
     "data": {
      "text/html": [
       "<div>\n",
       "<style scoped>\n",
       "    .dataframe tbody tr th:only-of-type {\n",
       "        vertical-align: middle;\n",
       "    }\n",
       "\n",
       "    .dataframe tbody tr th {\n",
       "        vertical-align: top;\n",
       "    }\n",
       "\n",
       "    .dataframe thead th {\n",
       "        text-align: right;\n",
       "    }\n",
       "</style>\n",
       "<table border=\"1\" class=\"dataframe\">\n",
       "  <thead>\n",
       "    <tr style=\"text-align: right;\">\n",
       "      <th></th>\n",
       "      <th>author</th>\n",
       "      <th>created_utc</th>\n",
       "      <th>full_link</th>\n",
       "      <th>subreddit</th>\n",
       "      <th>title</th>\n",
       "      <th>created</th>\n",
       "    </tr>\n",
       "  </thead>\n",
       "  <tbody>\n",
       "    <tr>\n",
       "      <th>0</th>\n",
       "      <td>Intelligent_Ear3155</td>\n",
       "      <td>1615420404</td>\n",
       "      <td>https://www.reddit.com/r/Philippines/comments/...</td>\n",
       "      <td>Philippines</td>\n",
       "      <td>Cuzette is a good jewelry brand, they offer go...</td>\n",
       "      <td>1.615392e+09</td>\n",
       "    </tr>\n",
       "    <tr>\n",
       "      <th>1</th>\n",
       "      <td>ladyfromthedarkside</td>\n",
       "      <td>1615419908</td>\n",
       "      <td>https://www.reddit.com/r/Philippines/comments/...</td>\n",
       "      <td>Philippines</td>\n",
       "      <td>Makati’s strict implementation of wearing of f...</td>\n",
       "      <td>1.615391e+09</td>\n",
       "    </tr>\n",
       "    <tr>\n",
       "      <th>2</th>\n",
       "      <td>Logical_Ad_3556</td>\n",
       "      <td>1615419483</td>\n",
       "      <td>https://www.reddit.com/r/Philippines/comments/...</td>\n",
       "      <td>Philippines</td>\n",
       "      <td>Hong Kong Toymakers Are Philippines’ New Targe...</td>\n",
       "      <td>1.615391e+09</td>\n",
       "    </tr>\n",
       "    <tr>\n",
       "      <th>3</th>\n",
       "      <td>setardo</td>\n",
       "      <td>1615418893</td>\n",
       "      <td>https://www.reddit.com/r/Philippines/comments/...</td>\n",
       "      <td>Philippines</td>\n",
       "      <td>Early Morning Coconut Trees View - Siargao, Ph...</td>\n",
       "      <td>1.615390e+09</td>\n",
       "    </tr>\n",
       "    <tr>\n",
       "      <th>4</th>\n",
       "      <td>CommunicationFar116</td>\n",
       "      <td>1615418058</td>\n",
       "      <td>https://www.reddit.com/r/Philippines/comments/...</td>\n",
       "      <td>Philippines</td>\n",
       "      <td>Filipino on Guam Musician</td>\n",
       "      <td>1.615389e+09</td>\n",
       "    </tr>\n",
       "    <tr>\n",
       "      <th>5</th>\n",
       "      <td>Reach_Round</td>\n",
       "      <td>1615417483</td>\n",
       "      <td>https://www.reddit.com/r/Philippines/comments/...</td>\n",
       "      <td>Philippines</td>\n",
       "      <td>Crypto to Peso ?</td>\n",
       "      <td>1.615389e+09</td>\n",
       "    </tr>\n",
       "    <tr>\n",
       "      <th>6</th>\n",
       "      <td>VeterinarianDry7601</td>\n",
       "      <td>1615415742</td>\n",
       "      <td>https://www.reddit.com/r/Philippines/comments/...</td>\n",
       "      <td>Philippines</td>\n",
       "      <td>https://app.shopback.com/pK2fNgYuweb</td>\n",
       "      <td>1.615387e+09</td>\n",
       "    </tr>\n",
       "    <tr>\n",
       "      <th>7</th>\n",
       "      <td>luvie06</td>\n",
       "      <td>1615414525</td>\n",
       "      <td>https://www.reddit.com/r/Philippines/comments/...</td>\n",
       "      <td>Philippines</td>\n",
       "      <td>PLS ANSWER I need this for my research :((</td>\n",
       "      <td>1.615386e+09</td>\n",
       "    </tr>\n",
       "    <tr>\n",
       "      <th>8</th>\n",
       "      <td>the_yaya</td>\n",
       "      <td>1615413301</td>\n",
       "      <td>https://www.reddit.com/r/Philippines/comments/...</td>\n",
       "      <td>Philippines</td>\n",
       "      <td>Daily random discussion - Mar 11, 2021</td>\n",
       "      <td>1.615385e+09</td>\n",
       "    </tr>\n",
       "    <tr>\n",
       "      <th>9</th>\n",
       "      <td>threehappypenguins</td>\n",
       "      <td>1615411232</td>\n",
       "      <td>https://www.reddit.com/r/Philippines/comments/...</td>\n",
       "      <td>Philippines</td>\n",
       "      <td>Mail Forwarding Service</td>\n",
       "      <td>1.615382e+09</td>\n",
       "    </tr>\n",
       "  </tbody>\n",
       "</table>\n",
       "</div>"
      ],
      "text/plain": [
       "                author  created_utc  \\\n",
       "0  Intelligent_Ear3155   1615420404   \n",
       "1  ladyfromthedarkside   1615419908   \n",
       "2      Logical_Ad_3556   1615419483   \n",
       "3              setardo   1615418893   \n",
       "4  CommunicationFar116   1615418058   \n",
       "5          Reach_Round   1615417483   \n",
       "6  VeterinarianDry7601   1615415742   \n",
       "7              luvie06   1615414525   \n",
       "8             the_yaya   1615413301   \n",
       "9   threehappypenguins   1615411232   \n",
       "\n",
       "                                           full_link    subreddit  \\\n",
       "0  https://www.reddit.com/r/Philippines/comments/...  Philippines   \n",
       "1  https://www.reddit.com/r/Philippines/comments/...  Philippines   \n",
       "2  https://www.reddit.com/r/Philippines/comments/...  Philippines   \n",
       "3  https://www.reddit.com/r/Philippines/comments/...  Philippines   \n",
       "4  https://www.reddit.com/r/Philippines/comments/...  Philippines   \n",
       "5  https://www.reddit.com/r/Philippines/comments/...  Philippines   \n",
       "6  https://www.reddit.com/r/Philippines/comments/...  Philippines   \n",
       "7  https://www.reddit.com/r/Philippines/comments/...  Philippines   \n",
       "8  https://www.reddit.com/r/Philippines/comments/...  Philippines   \n",
       "9  https://www.reddit.com/r/Philippines/comments/...  Philippines   \n",
       "\n",
       "                                               title       created  \n",
       "0  Cuzette is a good jewelry brand, they offer go...  1.615392e+09  \n",
       "1  Makati’s strict implementation of wearing of f...  1.615391e+09  \n",
       "2  Hong Kong Toymakers Are Philippines’ New Targe...  1.615391e+09  \n",
       "3  Early Morning Coconut Trees View - Siargao, Ph...  1.615390e+09  \n",
       "4                          Filipino on Guam Musician  1.615389e+09  \n",
       "5                                   Crypto to Peso ?  1.615389e+09  \n",
       "6               https://app.shopback.com/pK2fNgYuweb  1.615387e+09  \n",
       "7         PLS ANSWER I need this for my research :((  1.615386e+09  \n",
       "8             Daily random discussion - Mar 11, 2021  1.615385e+09  \n",
       "9                            Mail Forwarding Service  1.615382e+09  "
      ]
     },
     "execution_count": 17,
     "metadata": {},
     "output_type": "execute_result"
    }
   ],
   "source": [
    "# Display the dataframe\n",
    "posts_df"
   ]
  },
  {
   "cell_type": "markdown",
   "id": "2d3f8506-5d84-475b-972a-918b58d439da",
   "metadata": {},
   "source": [
    "## Challenge \n",
    "\n",
    "Let's put this in a loop to get the first 20 posts for every day of a month."
   ]
  },
  {
   "cell_type": "code",
   "execution_count": 14,
   "id": "ace6015d-e294-4cc0-a782-a14a70509146",
   "metadata": {},
   "outputs": [
    {
     "ename": "NameError",
     "evalue": "name 'dates' is not defined",
     "output_type": "error",
     "traceback": [
      "\u001b[1;31m---------------------------------------------------------------------------\u001b[0m",
      "\u001b[1;31mNameError\u001b[0m                                 Traceback (most recent call last)",
      "\u001b[1;32m<ipython-input-14-37c869a7ad3b>\u001b[0m in \u001b[0;36m<module>\u001b[1;34m\u001b[0m\n\u001b[0;32m     11\u001b[0m \u001b[0mposts_df\u001b[0m \u001b[1;33m=\u001b[0m \u001b[0mpd\u001b[0m\u001b[1;33m.\u001b[0m\u001b[0mDataFrame\u001b[0m\u001b[1;33m(\u001b[0m\u001b[1;33m)\u001b[0m\u001b[1;33m\u001b[0m\u001b[1;33m\u001b[0m\u001b[0m\n\u001b[0;32m     12\u001b[0m \u001b[1;33m\u001b[0m\u001b[0m\n\u001b[1;32m---> 13\u001b[1;33m \u001b[1;32mfor\u001b[0m \u001b[0mdate\u001b[0m \u001b[1;32min\u001b[0m \u001b[0mdates\u001b[0m\u001b[1;33m:\u001b[0m\u001b[1;33m\u001b[0m\u001b[1;33m\u001b[0m\u001b[0m\n\u001b[0m\u001b[0;32m     14\u001b[0m     posts = api.search_submissions(limit=10, \n\u001b[0;32m     15\u001b[0m                                \u001b[0msubreddit\u001b[0m\u001b[1;33m=\u001b[0m\u001b[0msub\u001b[0m\u001b[1;33m,\u001b[0m\u001b[1;33m\u001b[0m\u001b[1;33m\u001b[0m\u001b[0m\n",
      "\u001b[1;31mNameError\u001b[0m: name 'dates' is not defined"
     ]
    }
   ],
   "source": [
    "# getting everything for the entire March\n",
    "start = '2022-03-01'\n",
    "end = '2022-03-31'\n",
    "\n",
    "start_date = pd.to_datetime(start)\n",
    "end_date = pd.to_datetime(end)\n",
    "\n",
    "start_epoch = int(start_date.timestamp())\n",
    "end_epoch = int(end_date.timestamp())\n",
    "\n",
    "posts_df = pd.DataFrame()\n",
    "\n",
    "# to do\n",
    "for date in dates:\n",
    "    posts = api.search_submissions(limit=20, \n",
    "                               subreddit=sub, \n",
    "                               before=,\n",
    "                               after=end_epoch,\n",
    "                               filter=['full_link','author', 'title', 'subreddit', 'created_utc'])\n",
    "    posts_df.append([thing.d_ for thing in posts])"
   ]
  },
  {
   "cell_type": "code",
   "execution_count": null,
   "id": "37a1ec6d",
   "metadata": {},
   "outputs": [],
   "source": []
  }
 ],
 "metadata": {
  "kernelspec": {
   "display_name": "Python 3",
   "language": "python",
   "name": "python3"
  },
  "language_info": {
   "codemirror_mode": {
    "name": "ipython",
    "version": 3
   },
   "file_extension": ".py",
   "mimetype": "text/x-python",
   "name": "python",
   "nbconvert_exporter": "python",
   "pygments_lexer": "ipython3",
   "version": "3.8.8"
  },
  "toc": {
   "base_numbering": 1,
   "nav_menu": {},
   "number_sections": true,
   "sideBar": true,
   "skip_h1_title": false,
   "title_cell": "Table of Contents",
   "title_sidebar": "Contents",
   "toc_cell": false,
   "toc_position": {},
   "toc_section_display": true,
   "toc_window_display": false
  }
 },
 "nbformat": 4,
 "nbformat_minor": 5
}
