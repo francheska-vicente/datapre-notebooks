{
 "cells": [
  {
   "cell_type": "markdown",
   "id": "f0eda3c5",
   "metadata": {},
   "source": [
    "**Name:** VICENTE, Francheska Josefa\n",
    "\n",
    "**Section:** DATAPRE N01"
   ]
  },
  {
   "cell_type": "markdown",
   "id": "e5b08b3c",
   "metadata": {},
   "source": [
    "# Data Collection"
   ]
  },
  {
   "cell_type": "markdown",
   "id": "1cd427f4",
   "metadata": {},
   "source": [
    "## Bulbapedia\n",
    "Get the list of the next generations of Pokemons. Make sure you get the following information: (1) kdex, (2) ndex, (3) name, (4) types, and (5) URL to the Pokemon's wiki page."
   ]
  },
  {
   "cell_type": "code",
   "execution_count": null,
   "id": "745f2a09",
   "metadata": {},
   "outputs": [],
   "source": []
  },
  {
   "cell_type": "markdown",
   "id": "bbbc3230",
   "metadata": {},
   "source": [
    "## News site\n",
    "Get the news articles published on April 4 - 5. Decide which news site you want to get articles from. Make sure you get the following information: (1) date, (2) title, (3) full article, and (4) author."
   ]
  },
  {
   "cell_type": "code",
   "execution_count": null,
   "id": "c39d8daf",
   "metadata": {},
   "outputs": [],
   "source": []
  }
 ],
 "metadata": {
  "kernelspec": {
   "display_name": "Python 3",
   "language": "python",
   "name": "python3"
  },
  "language_info": {
   "codemirror_mode": {
    "name": "ipython",
    "version": 3
   },
   "file_extension": ".py",
   "mimetype": "text/x-python",
   "name": "python",
   "nbconvert_exporter": "python",
   "pygments_lexer": "ipython3",
   "version": "3.8.8"
  }
 },
 "nbformat": 4,
 "nbformat_minor": 5
}
