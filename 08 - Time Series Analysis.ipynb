{
 "cells": [
  {
   "cell_type": "markdown",
   "metadata": {},
   "source": [
    "# Handling and Processing Time Series Data\n",
    "\n",
    "## What is a \"Time Series\"\n",
    "\n",
    "Timeseries data are samples observed in a chronological manner (across time). Some samples in different fields are:\n",
    "\n",
    "    1) Economics - This field usually looks at timeseries indicators to know if a country is improving. Examples are :GDP,  Unemployment, Inflation, CPI, Poverty       \n",
    "    2) Finance - Daytraders that focus on technical analysis are actually looking at timeseries data on stock prices\n",
    "    3) Physics - Sin and cosine waves which are heavily used in understanding sound and spread of soundwaves across time.\n",
    "    \n",
    "    \n",
    "    \n",
    "## Why is it important to look at Time series data?\n",
    "\n",
    "    1) Understand the process behind a specific indicator\n",
    "    2) Create simulations to understand what might happen in the future & eventually put controls in order to avoid/surpass forecasts\n",
    "    3) To know what factors affect the series being analyzed / is there another series that affect the fluctuations of another? (e.g. Demand for Ice cream vs Temperature)\n",
    "    \n",
    "    \n",
    "## Some Samples\n",
    "\n",
    "`DJIA 30 Stock Time Series` - Average stock price of specific companies included in the Dow Jones Index (used to assess market health).\n",
    "\n",
    "![Stocks](https://miro.medium.com/max/1400/0*bCS3EWiVfLIZqwIW.gif)\n",
    "\n",
    "`Voice sampled every .2 seconds` - Average frequency and amplitude of voice sampled at specific timeframes. Time series representation of voices are actually used to model voice recognition algorithms.\n",
    "\n",
    "\n",
    "![Voice](https://miro.medium.com/max/700/1*80fnKgU_07EzqXWkJXZrQQ.png)\n",
    "\n",
    "`Inflation Across Time Among the ASEAN Countries` - This shows the trend of inflation of different countries across time. Kinda shows how bad it is here in the PH as compared to other countries\n",
    "![Inflation](https://assets.rappler.co/4A0970D12C774D96850FBCDB5D2707AA/img/86CDAB18C8304B6CB5DACBF8CA471CBC/Fig_1_aseaninf.png)\n",
    "\n",
    "\n",
    "\n",
    "\n",
    "## Difference in handling Time Series Data\n",
    "\n",
    "Given the difference in the behavior of time series data with panel data (samples differ per row), there are different preprocessing techniques applied to be able to clean your dataset.\n",
    "\n",
    "Lets discuss the usual preprocessing techniques applied to time series data and how it differs with panel data. But before that, we will first discuss the dataset that we'll be using today. We will use stocks data from yfinance. Luckily theres a free python library that will allow us to pull data easily."
   ]
  },
  {
   "cell_type": "code",
   "execution_count": null,
   "metadata": {},
   "outputs": [],
   "source": [
    "import yfinance as yf\n",
    "import pandas as pd\n",
    "import numpy as np\n",
    "import matplotlib.pyplot as plt\n",
    "import scipy.stats as stats\n",
    "from statsmodels.tsa.seasonal import seasonal_decompose\n",
    "from statsmodels.tsa.stattools import adfuller"
   ]
  },
  {
   "cell_type": "code",
   "execution_count": null,
   "metadata": {},
   "outputs": [],
   "source": [
    "stock_name = 'MSFT'\n",
    "start_date=\"2019-01-01\"\n",
    "end_date=\"2022-01-01\"\n",
    "\n",
    "# Valid Intervals : 1m, 2m, 5m, 15m, 30m, 60m, 90m, 1h, 1d, 5d, 1wk, 1mo, 3mo\n",
    "interval_val = '1D'\n",
    "\n",
    "data = yf.download(stock_name, start=start_date, end=end_date, interval = interval_val)\n",
    "data.head()\n",
    "\n",
    "data = data.reset_index()"
   ]
  },
  {
   "cell_type": "code",
   "execution_count": null,
   "metadata": {},
   "outputs": [],
   "source": [
    "# data.to_excel('Data For Students.xlsx', index=False)"
   ]
  },
  {
   "cell_type": "code",
   "execution_count": null,
   "metadata": {},
   "outputs": [],
   "source": [
    "data.head()"
   ]
  },
  {
   "cell_type": "markdown",
   "metadata": {},
   "source": [
    "### Data Dictionary\n",
    "\n",
    "\n",
    "\n",
    "| Variable  | Definition                               | Key                                            |\n",
    "| --------- | ---------------------------------------- | ---------------------------------------------- |\n",
    "| Date  | Timeperiod Covered (Depends on Interval Selected)                                 | Can be days, minutes, hours                                |\n",
    "| Open    | Opening Stock Price (SP)                             | Stock Price                      |\n",
    "| High       | Highest SP within the period selected                                      |      Stock Price                                          |\n",
    "| Low       | Lowest SP within the period selected                             |       Stock Price                                         |\n",
    "| Close     |Closing SP within the period selected |   Stock Price                                             |\n",
    "| Adj Close     | Closing SP with adjustments |                                          Stock Price      |\n",
    "| Volume    | Total Stocks issued                          |                     Quantity                           |\n",
    "\n",
    "\n",
    "### Exploratory Data Analysis\n",
    "\n",
    "#### How Big is our Data?\n",
    "\n",
    "We have a total of 7 columns and 506 day sample"
   ]
  },
  {
   "cell_type": "code",
   "execution_count": null,
   "metadata": {},
   "outputs": [],
   "source": [
    "data.shape"
   ]
  },
  {
   "cell_type": "markdown",
   "metadata": {},
   "source": [
    "#### Data Type and Nulls\n",
    "\n",
    "Make sure that the columns have the proper datatypes, specially the date columns. We can see from the results below that each columns have the correct datatype."
   ]
  },
  {
   "cell_type": "code",
   "execution_count": null,
   "metadata": {},
   "outputs": [],
   "source": [
    "data.info()"
   ]
  },
  {
   "cell_type": "markdown",
   "metadata": {},
   "source": [
    "In case the datatype of the datecolumn is not correct, we can convert it to datetime by using the code below. Note that format can be explicitly stated but if that parameter is set to None, pandas will automatically detect what the format of the column is. Check out the documentation for more info : \n",
    "\n",
    "https://pandas.pydata.org/docs/reference/api/pandas.to_datetime.html"
   ]
  },
  {
   "cell_type": "code",
   "execution_count": null,
   "metadata": {},
   "outputs": [],
   "source": [
    "data['Date'] = pd.to_datetime(data['Date'])"
   ]
  },
  {
   "cell_type": "markdown",
   "metadata": {},
   "source": [
    "### Feature Engineering\n",
    "\n",
    "From the previous discussions before, we know that we can extract multiple features from dates. Lets try to get the following from our data:\n",
    "\n",
    "    Year\n",
    "    Day\n",
    "    Weekday Index\n",
    "    Weekday Name\n",
    "    Is Weekend / Weekday"
   ]
  },
  {
   "cell_type": "code",
   "execution_count": null,
   "metadata": {},
   "outputs": [],
   "source": [
    "data['Year'] = data['Date'].dt.year\n",
    "data['Day'] = data['Date'].dt.day\n",
    "data['Weekday Index'] = data['Date'].dt.weekday\n",
    "data['Weekday Name'] = data['Date'].dt.day_name()\n",
    "data['IsWeekday'] = ['Weekend' if i > 4 else 'Weekday' for i in data['Weekday Index']]"
   ]
  },
  {
   "cell_type": "markdown",
   "metadata": {},
   "source": [
    "### Is there anything weird with the data?\n",
    "\n",
    "Looking at maximum weekday index, it seems that we dont have stock prices data with weekday index 5 and 6, this implies we dont have values for Saturdays and Sundays. Lets try to confirm this by getting the frequency of samples across weekday index\n"
   ]
  },
  {
   "cell_type": "code",
   "execution_count": null,
   "metadata": {},
   "outputs": [],
   "source": [
    "data.describe()"
   ]
  },
  {
   "cell_type": "markdown",
   "metadata": {},
   "source": [
    "It seems that we dont have stock prices reported during the weekend. And this is expected because stock markets are **closed during the weekends!**\n",
    "\n"
   ]
  },
  {
   "cell_type": "code",
   "execution_count": null,
   "metadata": {},
   "outputs": [],
   "source": [
    "data['Weekday Index'].value_counts().reset_index().sort_values(by='index', ascending=True)"
   ]
  },
  {
   "cell_type": "code",
   "execution_count": null,
   "metadata": {},
   "outputs": [],
   "source": [
    "data['Weekday Name'].value_counts().sort_values()"
   ]
  },
  {
   "cell_type": "code",
   "execution_count": null,
   "metadata": {},
   "outputs": [],
   "source": [
    "data['IsWeekday'].value_counts().sort_values()"
   ]
  },
  {
   "cell_type": "markdown",
   "metadata": {},
   "source": [
    "### Imputation\n",
    "\n",
    "One big difference between timeseries data and panel data is timeseries are frequently analyzed continuously as time progress (hence the series in the name). There are times that we'd need to show all values, EVEN IF IT's zero. In this case, lets say that we'd want to show weekend values as 0 to indicate that there is no trading activity during that day. We can do it by using the code below : "
   ]
  },
  {
   "cell_type": "code",
   "execution_count": null,
   "metadata": {},
   "outputs": [],
   "source": [
    "sample_imputation = data.copy()"
   ]
  },
  {
   "cell_type": "code",
   "execution_count": null,
   "metadata": {},
   "outputs": [],
   "source": [
    "sample_imputation.index = sample_imputation['Date']"
   ]
  },
  {
   "cell_type": "code",
   "execution_count": null,
   "metadata": {},
   "outputs": [],
   "source": [
    "## Code Provided by Nidhi Sharma\n",
    "## https://stackoverflow.com/questions/47231496/pandas-fill-missing-dates-in-time-series\n",
    "\n",
    "def fill_in_missing_dates(df,\n",
    "                          date_col_name = 'date',\n",
    "                          fill_val =np.nan,\n",
    "                          date_format='%Y-%m-%d'):\n",
    "    \n",
    "    df.set_index(date_col_name,drop=True,inplace=True)\n",
    "    \n",
    "    df.index = pd.to_datetime(df.index, format = date_format)\n",
    "    idx = pd.date_range(df.index.min(), df.index.max())\n",
    "    print('missing_dates are',idx.difference(df.index))\n",
    "    df=df.reindex(idx,fill_value=fill_val)\n",
    "    \n",
    "    return df\n"
   ]
  },
  {
   "cell_type": "code",
   "execution_count": null,
   "metadata": {},
   "outputs": [],
   "source": [
    "sample_imputation = fill_in_missing_dates(sample_imputation,\n",
    "                                          date_col_name = 'Date',\n",
    "                                          fill_val = 0,\n",
    "                                          date_format='%Y-%m-%d')"
   ]
  },
  {
   "cell_type": "markdown",
   "metadata": {},
   "source": [
    "### Getting the features for the imputed values\n",
    "\n",
    "Here we try to extract features from the date again (since new datapoints were added)"
   ]
  },
  {
   "cell_type": "code",
   "execution_count": null,
   "metadata": {},
   "outputs": [],
   "source": [
    "sample_imputation['Date'] = sample_imputation.index"
   ]
  },
  {
   "cell_type": "code",
   "execution_count": null,
   "metadata": {},
   "outputs": [],
   "source": [
    "sample_imputation['Year'] = sample_imputation['Date'].dt.year\n",
    "sample_imputation['Day'] = sample_imputation['Date'].dt.day\n",
    "sample_imputation['Weekday Index'] = sample_imputation['Date'].dt.weekday\n",
    "sample_imputation['Weekday Name'] = sample_imputation['Date'].dt.day_name()\n",
    "sample_imputation['IsWeekday'] = ['Weekend' if i > 4 else 'Weekday' for i in sample_imputation['Weekday Index']]"
   ]
  },
  {
   "cell_type": "code",
   "execution_count": null,
   "metadata": {},
   "outputs": [],
   "source": [
    "sample_imputation['Weekday Name'].value_counts().sort_values()"
   ]
  },
  {
   "cell_type": "code",
   "execution_count": null,
   "metadata": {},
   "outputs": [],
   "source": [
    "plt.figure(figsize=(30,8))\n",
    "\n",
    "# Plotting the Imputed Data (blue)\n",
    "plt.plot(sample_imputation['Date'], sample_imputation['Close'], marker='o', label='Imputed')\n",
    "\n",
    "#Plotting the original data (orange)\n",
    "plt.plot(data['Date'], data['Close'], marker='o', label='Original')\n",
    "\n",
    "plt.legend(fontsize=25)\n",
    "plt.xticks(fontsize=15)\n",
    "plt.yticks(fontsize=15)\n",
    "plt.xlabel('Date')\n",
    "plt.ylabel('Closing Price');"
   ]
  },
  {
   "cell_type": "code",
   "execution_count": null,
   "metadata": {},
   "outputs": [],
   "source": [
    "# For Students, What if we want to impute using the mean value of the closing stock price?"
   ]
  },
  {
   "cell_type": "markdown",
   "metadata": {},
   "source": [
    "## Aggregation and Granularity\n",
    "\n",
    "Granularity in panel data talks about the level of grouping of the samples. Usually we group them to be able to analyze samples a larger scale. Similarly, we can also group time series data depending on the level of **temporality** that you would want to check. The usual level of grouping for time is : \n",
    "\n",
    "`Seconds` -> `Minutes` -> `Hours` -> `Days` -> `Weeks` -> `Months` -> `Years` -> `Decades` -> `Centuries`\n",
    "\n",
    "Example : \n",
    "\n",
    "\n",
    "![Stocks](http://kourentzes.com/forecasting/wp-content/uploads/2014/05/fors1.fig1_.png)\n",
    "\n",
    "\n",
    "\n",
    "Implementing this using pandas is quite straightforward, similar to panel data, we will use the **groupby** function to group the timeseries data together and we will have to specify the following:\n",
    "\n",
    "    Groups Involved - what are the columns that we'll include to the aggregation (i.e. per stock, per week)\n",
    "    Granularity - what level of grouping do we need? How high or how low? \n",
    "    Type of Aggregation - how do we group the values together (mean / sum)"
   ]
  },
  {
   "cell_type": "code",
   "execution_count": null,
   "metadata": {},
   "outputs": [],
   "source": [
    "weekly_aggregate = data.groupby(pd.Grouper(key='Date', freq='W'))['Close'].mean().reset_index()\n",
    "month_aggregate = data.groupby(pd.Grouper(key='Date', freq='MS'))['Close'].mean().reset_index()\n",
    "month_aggregate_ = data.groupby(pd.Grouper(key='Date', freq='M'))['Close'].mean().reset_index()"
   ]
  },
  {
   "cell_type": "code",
   "execution_count": null,
   "metadata": {},
   "outputs": [],
   "source": [
    "plt.figure(figsize=(30,8))\n",
    "\n",
    "#Plotting the original data (orange)\n",
    "plt.plot(data['Date'], data['Close'], marker='o', label='Original')\n",
    "\n",
    "#Plotting the Grouped Data with different Granularity\n",
    "plt.plot(weekly_aggregate['Date'], weekly_aggregate['Close'], label='Weekly Agg')\n",
    "plt.plot(month_aggregate['Date'], month_aggregate['Close'], label='Month end Agg')\n",
    "plt.plot(month_aggregate_['Date'], month_aggregate_['Close'], label = 'Month start Agg')\n",
    "\n",
    "plt.legend(fontsize=25)\n",
    "plt.xticks(fontsize=15)\n",
    "plt.yticks(fontsize=15)\n",
    "plt.xlabel('Date')\n",
    "plt.ylabel('Closing Price');"
   ]
  },
  {
   "attachments": {
    "image.png": {
     "image/png": "[encoded data removed]"
    }
   },
   "cell_type": "markdown",
   "metadata": {},
   "source": [
    "## Aggregation via a Moving Window\n",
    "\n",
    "Notice that as we increase the granularity of the grouping, we were able to \"smoothen\" the graph. This is because time series aggregation will account for the the variation observed in the granular data (similar to when we group samples to specific categories to get descriptive statistics). \n",
    "\n",
    "One flaw in the usual aggregation method is it only accounts for the data at the specific window that we are aggregating (i.e. if we aggregate by month, the calculation will not factor in the previous months). It is in the nature of timeseries that datapoints are **autocorrelated** meaning the past is somehow related with the present values. This means that whatever the past values are in the series, it may have meaningful relationship with the present values that we **SHOULD** account for. Moving or Rolling averages were created to be able to account for this \"flaw\" in the usual timeseries aggregation method. Mathematically, moving averages are calculated using this formula :\n",
    "\n",
    "![Simple moving average](attachment:image.png)\n",
    "\n",
    "Procedurally, this is what happens under the hood : \n",
    "\n",
    "![Moving average info](https://media.geeksforgeeks.org/wp-content/uploads/20211116101813/Capture.PNG)\n",
    "\n",
    "We can implement it in python using the code block below : "
   ]
  },
  {
   "cell_type": "code",
   "execution_count": null,
   "metadata": {},
   "outputs": [],
   "source": [
    "data['7day MA'] = data['Close'].rolling(window =7).mean()"
   ]
  },
  {
   "cell_type": "markdown",
   "metadata": {},
   "source": [
    "### Pros and Cons of using MA\n",
    "\n",
    "Pros :\n",
    "    \n",
    "    Information from the Past - this method accounts for the possible relationship of past values with the present\n",
    "\n",
    "    Smoothness - allows for the series to be smoothened making trend more visible (higher window, the smoother the series will be)\n",
    "\n",
    "    Can be used for forecast - one of the most intuitive and classical model\n",
    "    \n",
    "Cons :\n",
    "    \n",
    "    Loss of data"
   ]
  },
  {
   "cell_type": "code",
   "execution_count": null,
   "metadata": {},
   "outputs": [],
   "source": [
    "# Smoothness\n",
    "plt.figure(figsize=(30,8))\n",
    "\n",
    "#Plotting the original data (orange)\n",
    "# plt.plot(data['Date'], data['Close'], marker='o', label='Original')\n",
    "\n",
    "plt.plot(weekly_aggregate['Date'], weekly_aggregate['Close'], label='Weekly Agg')\n",
    "\n",
    "#Plotting the 7Day MA\n",
    "plt.plot(data['Date'], data['7day MA'], label='7Day MA')\n",
    "\n",
    "plt.legend(fontsize=25)\n",
    "plt.xticks(fontsize=15)\n",
    "plt.yticks(fontsize=15)\n",
    "plt.xlabel('Date')\n",
    "plt.ylabel('Closing Price');"
   ]
  },
  {
   "cell_type": "code",
   "execution_count": null,
   "metadata": {},
   "outputs": [],
   "source": [
    "# Loss of Data\n",
    "data[['Date','Close', '7day MA']]"
   ]
  },
  {
   "cell_type": "markdown",
   "metadata": {},
   "source": [
    "## Detection of Outliers\n",
    "\n",
    "\n",
    "`Zscore` - similar to panel data, you can use zscores to spot outliers within the dataset. In fact, this is the most basic anomaly detection algorithm used for time series. You can easily spot weird behavior across time by simply getting the zscore values and plotting it against the series."
   ]
  },
  {
   "cell_type": "code",
   "execution_count": null,
   "metadata": {},
   "outputs": [],
   "source": [
    "# Subsampling the datapoints only to include 2020 stock prices of microsoft\n",
    "# Increasing granularity to weeks\n",
    "\n",
    "outlier_sample = data[(data['Date'].dt.year == 2020) & (data['Date'].dt.month <= 5)]\n",
    "\n",
    "outlier_sample = outlier_sample.groupby(pd.Grouper(key='Date', freq='D'))['Close'].mean().reset_index()\n",
    "outlier_sample = outlier_sample.dropna()"
   ]
  },
  {
   "cell_type": "code",
   "execution_count": null,
   "metadata": {},
   "outputs": [],
   "source": [
    "# Subsampled data\n",
    "plt.figure(figsize=(30,8))\n",
    "\n",
    "plt.plot(outlier_sample['Date'], outlier_sample['Close'], label='Daily Agg', marker='o')\n",
    "\n",
    "plt.legend(fontsize=25)\n",
    "plt.xticks(fontsize=15)\n",
    "plt.yticks(fontsize=15)\n",
    "plt.xlabel('Date')\n",
    "plt.ylabel('Closing Price');"
   ]
  },
  {
   "cell_type": "code",
   "execution_count": null,
   "metadata": {},
   "outputs": [],
   "source": [
    "outlier_sample['zscore'] = stats.zscore(outlier_sample['Close'])"
   ]
  },
  {
   "cell_type": "markdown",
   "metadata": {},
   "source": [
    "Here we will establish a certain threshold before we flag a datapoint as an outlier. Similar with panel data, we need to know how many standard deviations away from the mean will we consider as normal vs as anomalous. As an example, lets say we will deem datapoints that is +/- 1 standard deviation away from the mean as anomalous"
   ]
  },
  {
   "cell_type": "code",
   "execution_count": null,
   "metadata": {},
   "outputs": [],
   "source": [
    "mean_value = outlier_sample['zscore'].mean()\n",
    "standard_dev_val = 1"
   ]
  },
  {
   "cell_type": "markdown",
   "metadata": {},
   "source": [
    "Plotting the threshold band will allow us to easily spot the trends present in our dataset. Looking at the firs quarter of 2020, there seems to be an event that decreased the price of microsoft for `multiple weeks`. In time series analysis, these trends are usually points of reflection and we try to make sense of the trend by looking at factors that might have caused such behavior."
   ]
  },
  {
   "cell_type": "code",
   "execution_count": null,
   "metadata": {},
   "outputs": [],
   "source": [
    "# Plotting Zscores across time\n",
    "plt.figure(figsize=(30,8))\n",
    "\n",
    "plt.plot(outlier_sample['Date'], outlier_sample['zscore'], label='Zscores', marker='o')\n",
    "\n",
    "plt.axhline(outlier_sample['zscore'].mean(), label='zscore Ave', linestyle='--')\n",
    "\n",
    "\n",
    "plt.axhline(standard_dev_val, label='Upper Bound', linestyle='--', color='red')\n",
    "\n",
    "plt.axhline(-standard_dev_val, label='Lower Bound', linestyle='--', color='red')\n",
    "\n",
    "plt.legend(fontsize=15)\n",
    "plt.xticks(fontsize=15)\n",
    "plt.yticks(fontsize=15)\n",
    "plt.xlabel('Date')\n",
    "plt.ylabel('Closing Price');"
   ]
  },
  {
   "cell_type": "markdown",
   "metadata": {},
   "source": [
    "## Major Components of Observed Time Series\n",
    "\n",
    "Time series have components that we can look at to further understand the behavior of our data.\n",
    "\n",
    "`Trend` - long term slope and direction of the timeseries. Question : How long is long? and what if there are shifts in trend?\n",
    "\n",
    "`Cycle` - pattern in data that is observed but is not chunked within a specific timeframe (i.e. repeat during x number of weeks/days, but boom and bust is observable)\n",
    "\n",
    "`Seasonality` - calendar based effects (seasons, definite scheduled holidays, tax periods)\n",
    "\n",
    "\n",
    "`Irregularity` - term to capture stochasticity and randomness.\n",
    "\n",
    "\n",
    "### Extracting the Major Components of a Series\n",
    "\n",
    "Decomposition is a technique that can help us make sense of a time series. The result of decomposition will allow us to know what kind of \"preprocessing\" technique to apply to the series before we can move forward with more complex analysis and modelling.\n",
    "\n",
    "The two most common ways to decompose a series are : \n",
    "\n",
    "    Additive Model - states that the series can be created by aggregating the estimated componantes together\n",
    "\n",
    "    Multiplicative Model - states that the series can be created by multiplying the estimated componantes together\n",
    "\n",
    "The code below will allow us to extract the important components of a timeseries"
   ]
  },
  {
   "cell_type": "code",
   "execution_count": null,
   "metadata": {},
   "outputs": [],
   "source": [
    "decompose_sample = data.copy()\n",
    "\n",
    "decompose_sample = decompose_sample.groupby(pd.Grouper(key='Date', freq='MS'))['Close'].mean().reset_index()\n",
    "\n",
    "decompose_sample = decompose_sample.set_index(pd.to_datetime(decompose_sample['Date'])).dropna()\n",
    "\n",
    "decompose_sample.sort_index(inplace=True)"
   ]
  },
  {
   "cell_type": "code",
   "execution_count": null,
   "metadata": {},
   "outputs": [],
   "source": [
    "decompose_sample['Year'] = decompose_sample['Date'].dt.year\n",
    "decompose_sample['Month'] = decompose_sample['Date'].dt.month"
   ]
  },
  {
   "cell_type": "code",
   "execution_count": null,
   "metadata": {},
   "outputs": [],
   "source": [
    "# Analyze first the original series \n",
    "# What is the trend? What months, on average is high?\n",
    "# What to expect when we extract the components?\n",
    "plt.figure(figsize=(15, 5))\n",
    "for each in decompose_sample['Year'].unique():\n",
    "    plt.plot(decompose_sample[decompose_sample['Year'] == each]['Month'],\n",
    "             decompose_sample[decompose_sample['Year'] == each]['Close'], marker='o', label=each)\n",
    "    \n",
    "    plt.legend()\n",
    "    plt.xlabel('Months')\n",
    "    plt.ylabel('Monthly Closing Ave')\n",
    "    plt.title('Monthly Closing Ave Across Months')"
   ]
  },
  {
   "cell_type": "code",
   "execution_count": null,
   "metadata": {},
   "outputs": [],
   "source": [
    "result = seasonal_decompose(decompose_sample['Close'], model='additive')"
   ]
  },
  {
   "cell_type": "code",
   "execution_count": null,
   "metadata": {},
   "outputs": [],
   "source": [
    "plt.figure(figsize=(10,3))\n",
    "plt.plot(result.observed)\n",
    "plt.title(\"Observed\")\n",
    "plt.figure(figsize=(10,3))\n",
    "plt.plot(result.trend)\n",
    "plt.title(\"Trend\")\n",
    "plt.figure(figsize=(10,3))\n",
    "plt.plot(result.seasonal)\n",
    "plt.title(\"Seasonal\")\n",
    "plt.figure(figsize=(10,3))\n",
    "plt.plot(result.resid)\n",
    "plt.title(\"Residuals\")"
   ]
  },
  {
   "cell_type": "markdown",
   "metadata": {},
   "source": [
    "### Monthly expectation\n",
    "\n",
    "By analyzing the seasonality index extracted, we can somehow see the effect of certain months on the closing stock price. The graph below will give us an idea if a certain month has a positive / negative effect on the average closing price for that specific month."
   ]
  },
  {
   "cell_type": "code",
   "execution_count": null,
   "metadata": {},
   "outputs": [],
   "source": [
    "seasonality_value = result.seasonal.reset_index()\n",
    "\n",
    "seasonality_value['Month'] = seasonality_value['Date'].dt.month\n",
    "seasonality_value = seasonality_value[['seasonal', 'Month']].drop_duplicates()"
   ]
  },
  {
   "cell_type": "markdown",
   "metadata": {},
   "source": [
    "Here we can see that Microsoft's stock prices drop (on average) during January, March, April, May, October, November and December."
   ]
  },
  {
   "cell_type": "code",
   "execution_count": null,
   "metadata": {},
   "outputs": [],
   "source": [
    "plt.figure(figsize=(20,3))\n",
    "\n",
    "plt.bar(seasonality_value[seasonality_value['seasonal'] > 0]['Month'],\n",
    "        seasonality_value[seasonality_value['seasonal'] > 0]['seasonal'])\n",
    "\n",
    "\n",
    "plt.bar(seasonality_value[seasonality_value['seasonal'] <= 0]['Month'],\n",
    "        seasonality_value[seasonality_value['seasonal'] <= 0]['seasonal'])"
   ]
  },
  {
   "cell_type": "markdown",
   "metadata": {},
   "source": [
    "## Preprocessing Techniques Depend on Seasonality and Trend\n",
    "\n",
    "The result that we get from decomposition will dictate what kind of preprocessing technique should be applied to the data. If you find that the data has seasonality / trend, we can use the table below to know how to impute for missing values. \n",
    "\n",
    "| Season      | Trend |Trendless |\n",
    "| ----------- | ----------- |----------- |\n",
    "| Seasonal      |Use __MEAN__ of the __adjacent__ years (same period)|Use __MEAN__ of __all__ available data |\n",
    "| Non-Seasonal   |Use __MEAN__ of the __adjacent__ datapoints|Use __MEAN__ of __all__ available data  |\n",
    "\n",
    "\n",
    "By following this table, we can more or less generate more accurate models.\n",
    "\n",
    "\n",
    "## Stationarity and Autocorrelation\n",
    "\n",
    "\n",
    "Some algorithms require stationarity of a series before it can be modelled. Non-stationary data, when used to train classical models (i.e. ARIMA) will result to autocorrelated residuals implying that the errors are severly increasing across time. This just means that the past values are dependent or **CORRELATED** with present and future values.  Residuals (Prediction - Actuals) that are not serially correlated is an assumption that must be passed before we can interpret ARIMA and other classical models. There are different preprocessing techniques that you can use to remove this relationship from the series.\n",
    "\n",
    "A series that is stationary is defined to have the following properties :\n",
    "\n",
    "    1) Trendless\n",
    "    2) No predifined seasonality\n",
    "    \n",
    "    \n",
    "![Stationarity](https://0megap0int.files.wordpress.com/2021/07/stationary.png)\n",
    "    \n",
    "    \n",
    "\n",
    "### Differencing\n",
    "\n",
    "You can difference the input series to be able to remedy for non-stationarity. Differencing is the direct subtraction of adjacent datapoints of timeperiod selected.\n",
    "\n",
    "\n",
    "\n"
   ]
  },
  {
   "cell_type": "code",
   "execution_count": null,
   "metadata": {},
   "outputs": [],
   "source": [
    "data['Differenced First Order'] = data['Close'].diff()"
   ]
  },
  {
   "cell_type": "code",
   "execution_count": null,
   "metadata": {},
   "outputs": [],
   "source": [
    "# Plotting Data\n",
    "plt.figure(figsize=(30,8))\n",
    "\n",
    "plt.plot(data['Date'], data['Close'], label='Actual Series', marker='o')\n",
    "plt.plot(data['Date'], data['Differenced First Order'], label='Differenced Series', marker='o')\n",
    "\n",
    "\n",
    "plt.legend(fontsize=15)\n",
    "plt.xticks(fontsize=15)\n",
    "plt.yticks(fontsize=15)\n",
    "plt.xlabel('Date')\n",
    "plt.ylabel('Closing Price');"
   ]
  },
  {
   "cell_type": "markdown",
   "metadata": {},
   "source": [
    "The formal way to check for stationarity is by using the Augmented Dickey-Fuller test where the null hypothesis is :\n",
    "\n",
    "Null = Series is NON-STATIONARY\n",
    "\n",
    "Alternative = Series is STATIONARY"
   ]
  },
  {
   "cell_type": "code",
   "execution_count": null,
   "metadata": {},
   "outputs": [],
   "source": [
    "result = adfuller(data['Close'])\n",
    "print('ADF Statistic: %f' % result[0])\n",
    "print('p-value: %f' % result[1])\n",
    "print('Critical Values:')\n",
    "for key, value in result[4].items():\n",
    "    print('\\t%s: %.3f' % (key, value))"
   ]
  },
  {
   "cell_type": "code",
   "execution_count": null,
   "metadata": {},
   "outputs": [],
   "source": [
    "result = adfuller(data['Differenced First Order'].dropna())\n",
    "print('ADF Statistic: %f' % result[0])\n",
    "print('p-value: %f' % result[1])\n",
    "print('Critical Values:')\n",
    "for key, value in result[4].items():\n",
    "    print('\\t%s: %.3f' % (key, value))"
   ]
  },
  {
   "cell_type": "markdown",
   "metadata": {},
   "source": [
    "### Log transform\n",
    "\n",
    "Another technique to tame non-stationarity is by getting the logarithmic transform of the series"
   ]
  },
  {
   "cell_type": "code",
   "execution_count": null,
   "metadata": {},
   "outputs": [],
   "source": [
    "data['Log Close'] = np.log(data['Close'])"
   ]
  },
  {
   "cell_type": "code",
   "execution_count": null,
   "metadata": {},
   "outputs": [],
   "source": [
    "# Plotting Data\n",
    "plt.figure(figsize=(30,8))\n",
    "\n",
    "# plt.plot(data['Date'], data['Close'], label='Actual Series', marker='o')\n",
    "plt.plot(data['Date'], data['Log Close'], label='Log Series', marker='o')\n",
    "\n",
    "\n",
    "plt.legend(fontsize=15)\n",
    "plt.xticks(fontsize=15)\n",
    "plt.yticks(fontsize=15)\n",
    "plt.xlabel('Date')\n",
    "plt.ylabel('Closing Price');"
   ]
  },
  {
   "cell_type": "code",
   "execution_count": null,
   "metadata": {},
   "outputs": [],
   "source": [
    "result = adfuller(data['Log Close'].dropna())\n",
    "print('ADF Statistic: %f' % result[0])\n",
    "print('p-value: %f' % result[1])\n",
    "print('Critical Values:')\n",
    "for key, value in result[4].items():\n",
    "    print('\\t%s: %.3f' % (key, value))"
   ]
  }
 ],
 "metadata": {
  "kernelspec": {
   "display_name": "Python 3 (ipykernel)",
   "language": "python",
   "name": "python3"
  },
  "language_info": {
   "codemirror_mode": {
    "name": "ipython",
    "version": 3
   },
   "file_extension": ".py",
   "mimetype": "text/x-python",
   "name": "python",
   "nbconvert_exporter": "python",
   "pygments_lexer": "ipython3",
   "version": "3.8.12"
  },
  "toc": {
   "base_numbering": 1,
   "nav_menu": {},
   "number_sections": true,
   "sideBar": true,
   "skip_h1_title": false,
   "title_cell": "Table of Contents",
   "title_sidebar": "Contents",
   "toc_cell": false,
   "toc_position": {
    "height": "calc(100% - 180px)",
    "left": "10px",
    "top": "150px",
    "width": "307.2px"
   },
   "toc_section_display": true,
   "toc_window_display": true
  }
 },
 "nbformat": 4,
 "nbformat_minor": 4
}
